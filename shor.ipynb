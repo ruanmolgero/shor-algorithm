{
 "cells": [
  {
   "cell_type": "code",
   "execution_count": 3,
   "metadata": {},
   "outputs": [],
   "source": [
    "from ket import *\n",
    "from ket.lib import *\n",
    "from math import log2, gcd, pi\n",
    "from random import randint\n",
    "\n",
    "from typing import Literal"
   ]
  },
  {
   "cell_type": "code",
   "execution_count": 5,
   "metadata": {},
   "outputs": [],
   "source": [
    "def print_state(\n",
    "    *qubits, format: list[Literal[\"int\", \"bin\"]] | Literal[\"int\", \"bin\"] | None = None\n",
    "):\n",
    "    \"\"\"\n",
    "    Imprime o estado do sistema quântico.\n",
    "\n",
    "    Args:\n",
    "        *qubits (Quant): Os qubits cujos estados serão impressos.\n",
    "        format (list[str] | str | None): O formato de impressão para cada qubit. Pode ser uma lista contendo\n",
    "            \"int\" ou \"bin\" para cada qubit, uma string \"int\" ou \"bin\" que será aplicada a todos os qubits,\n",
    "            ou None para usar o formato padrão \"bin\".\n",
    "\n",
    "    Raises:\n",
    "        AssertionError: Se o argumento `format` for uma string diferente de \"int\" ou \"bin\", ou se o tamanho da\n",
    "            lista `format` não for igual ao número de qubits.\n",
    "    \"\"\"\n",
    "    from itertools import accumulate\n",
    "    from functools import reduce\n",
    "    from operator import add\n",
    "    import ket\n",
    "    from IPython.display import Math, display\n",
    "\n",
    "    if isinstance(format, str):\n",
    "        assert format in [\"int\", \"bin\"], \"format deve ser 'int' ou 'bin'\"\n",
    "        format = [format] * len(qubits)\n",
    "    elif format is not None:\n",
    "        assert len(format) == len(qubits), \"format deve ter o mesmo tamanho que qubits\"\n",
    "        assert all(\n",
    "            f in [\"int\", \"bin\"] for f in format\n",
    "        ), \"format deve conter apenas 'int' ou 'bin'\"\n",
    "    else:\n",
    "        format = [\"bin\"] * len(qubits)\n",
    "\n",
    "    qubit_len = list(map(len, qubits))\n",
    "    split_indices = [0] + list(accumulate(qubit_len))\n",
    "\n",
    "    qubits = reduce(add, qubits)\n",
    "    qubits = ket.dump(qubits)\n",
    "    math = []\n",
    "    for state, amp in qubits.get().items():\n",
    "\n",
    "        def float_to_math(num: float, is_complex: bool) -> str | None:\n",
    "            num_str = None\n",
    "            if abs(num) > 1e-14:\n",
    "\n",
    "                sqrt_dem_float = 1 / num**2\n",
    "                sqrt_dem = round(sqrt_dem_float)\n",
    "                if abs(sqrt_dem - sqrt_dem_float) < 1e-10 and sqrt_dem != 1:\n",
    "                    num_str = f\"\\\\frac{{{'-' if num < 0.0 else ''}{'i' if is_complex else '1'}}}{{\\\\sqrt{{{sqrt_dem}}}}}\"\n",
    "                else:\n",
    "                    round_num = round(num)\n",
    "                    if abs(round_num - num) > 1e-14:\n",
    "                        num_str = str(num)\n",
    "                        if \"e\" in num_str:\n",
    "                            num_str = num_str.replace(\"e\", \"\\\\times10^{\") + \"}\"\n",
    "                    else:\n",
    "                        num_str = \"\"\n",
    "                    if is_complex:\n",
    "                        num_str += \"i\"\n",
    "            return num_str\n",
    "\n",
    "        real_str = float_to_math(amp.real, False)\n",
    "        imag_str = float_to_math(amp.imag, True)\n",
    "\n",
    "        state_str = f\"{state:0{len(qubits.qubits)}b}\"\n",
    "        state_str = [\n",
    "            f\"\\\\left|{state_str[start:end] if fmt == 'bin' else int(state_str[start:end], 2)}\\\\right>\"\n",
    "            for start, end, fmt in zip(split_indices, split_indices[1:], format)\n",
    "        ]\n",
    "        state_str = \"\".join(state_str)\n",
    "\n",
    "        if real_str is not None and imag_str is not None:\n",
    "            math.append(f\"({real_str}+{imag_str}i) {state_str}\")\n",
    "        else:\n",
    "            math.append(f\"{real_str if real_str is not None else imag_str} {state_str}\")\n",
    "\n",
    "    display(Math(\"+\".join(math).replace(\"+-\", \"-\")))"
   ]
  },
  {
   "cell_type": "code",
   "execution_count": 16,
   "metadata": {},
   "outputs": [],
   "source": [
    "def qft(qubits: Quant, invert: bool = True):\n",
    "    if len(qubits) == 1:\n",
    "        H(qubits)\n",
    "    else:\n",
    "        *head, tail = qubits\n",
    "        H(tail)\n",
    "        for i, ctrl_qubit in enumerate(reversed(head)):\n",
    "            ctrl(ctrl_qubit, PHASE(pi / 2 ** (i + 1)))(tail)\n",
    "        qft(head, invert=False)\n",
    "    if invert:\n",
    "        size = len(qubits)\n",
    "        for i in range(size // 2):\n",
    "            SWAP(qubits[i], qubits[size - i - 1])"
   ]
  },
  {
   "cell_type": "code",
   "execution_count": 6,
   "metadata": {},
   "outputs": [],
   "source": [
    "N = 15\n",
    "n = N.bit_length()"
   ]
  },
  {
   "cell_type": "code",
   "execution_count": 14,
   "metadata": {},
   "outputs": [
    {
     "data": {
      "text/latex": [
       "$\\displaystyle  \\left|00000000\\right>$"
      ],
      "text/plain": [
       "<IPython.core.display.Math object>"
      ]
     },
     "metadata": {},
     "output_type": "display_data"
    },
    {
     "data": {
      "text/latex": [
       "$\\displaystyle  \\left|0000\\right>$"
      ],
      "text/plain": [
       "<IPython.core.display.Math object>"
      ]
     },
     "metadata": {},
     "output_type": "display_data"
    },
    {
     "data": {
      "text/latex": [
       "$\\displaystyle  \\left|0001\\right>$"
      ],
      "text/plain": [
       "<IPython.core.display.Math object>"
      ]
     },
     "metadata": {},
     "output_type": "display_data"
    }
   ],
   "source": [
    "# Processo Ket\n",
    "p = Process()\n",
    "\n",
    "# Alocação qubits de controle e alvo\n",
    "control_qubits = p.alloc(2*n)\n",
    "target_qubits = p.alloc(n)\n",
    "print_state(control_qubits)\n",
    "print_state(target_qubits)\n",
    "\n",
    "# Superposição dos qubits de controle\n",
    "H(control_qubits)\n",
    "# print_state(control_qubits)\n",
    "\n",
    "# Inicialização do qubit alvo em \\ket{1}\n",
    "X(target_qubits[-1])\n",
    "print_state(target_qubits)"
   ]
  },
  {
   "cell_type": "code",
   "execution_count": 15,
   "metadata": {},
   "outputs": [
    {
     "name": "stdout",
     "output_type": "stream",
     "text": [
      "{226: 7, 228: 10, 118: 9, 146: 11, 154: 6, 236: 7, 251: 8, 36: 5, 42: 3, 199: 5, 77: 12, 169: 12, 223: 6, 84: 10, 242: 10, 28: 7, 188: 5, 151: 9, 119: 11, 80: 8, 35: 8, 163: 12, 105: 10, 53: 4, 160: 8, 26: 7, 134: 5, 141: 11, 219: 11, 92: 6, 139: 6, 253: 10, 234: 10, 216: 8, 241: 8, 246: 7, 180: 9, 229: 6, 69: 8, 0: 10, 65: 11, 181: 10, 49: 5, 91: 12, 222: 10, 122: 11, 166: 4, 27: 3, 195: 6, 155: 5, 211: 8, 174: 9, 67: 10, 7: 7, 186: 8, 81: 11, 214: 6, 120: 4, 115: 9, 83: 8, 217: 10, 29: 9, 212: 4, 8: 9, 124: 1, 254: 13, 191: 9, 202: 5, 203: 8, 200: 11, 57: 7, 248: 9, 149: 7, 110: 9, 76: 9, 230: 7, 187: 11, 15: 3, 3: 11, 239: 4, 111: 5, 102: 8, 143: 9, 11: 7, 224: 7, 78: 5, 245: 5, 207: 6, 109: 9, 16: 11, 172: 9, 152: 11, 127: 13, 179: 14, 39: 13, 153: 8, 235: 7, 194: 9, 158: 7, 192: 7, 97: 12, 22: 10, 60: 11, 227: 4, 135: 6, 100: 6, 185: 7, 51: 6, 68: 6, 59: 4, 221: 5, 70: 1, 140: 14, 123: 12, 90: 6, 33: 4, 205: 8, 43: 6, 126: 4, 23: 9, 250: 5, 40: 8, 66: 4, 1: 4, 71: 10, 209: 5, 72: 9, 240: 8, 136: 9, 145: 6, 159: 9, 37: 16, 206: 13, 237: 7, 190: 7, 87: 12, 13: 5, 157: 12, 208: 8, 114: 12, 133: 6, 165: 4, 96: 4, 14: 4, 64: 11, 129: 6, 177: 8, 150: 10, 144: 9, 232: 4, 147: 11, 213: 5, 50: 13, 113: 11, 164: 6, 193: 12, 98: 5, 46: 8, 73: 10, 101: 8, 121: 3, 94: 4, 125: 6, 20: 5, 86: 5, 173: 7, 21: 8, 82: 11, 61: 8, 34: 9, 88: 9, 210: 4, 19: 12, 238: 11, 103: 8, 58: 12, 162: 10, 255: 5, 9: 9, 18: 10, 48: 9, 243: 18, 215: 11, 168: 11, 233: 4, 167: 6, 5: 6, 132: 4, 249: 6, 148: 10, 106: 6, 201: 10, 93: 11, 47: 10, 74: 9, 131: 7, 17: 7, 95: 12, 247: 5, 75: 11, 54: 10, 62: 8, 56: 6, 24: 10, 196: 14, 183: 10, 137: 11, 31: 11, 220: 10, 2: 7, 89: 7, 45: 10, 99: 9, 79: 8, 197: 9, 225: 9, 171: 6, 138: 4, 32: 10, 107: 5, 52: 6, 104: 2, 12: 8, 4: 8, 170: 7, 10: 14, 108: 5, 204: 7, 30: 4, 244: 9, 156: 12, 175: 7, 198: 5, 231: 9, 218: 7, 55: 5, 128: 10, 176: 3, 189: 8, 182: 14, 117: 3, 161: 6, 252: 9, 63: 12, 142: 11, 44: 8, 178: 6, 38: 9, 41: 10, 6: 10, 184: 7, 85: 4, 130: 8, 25: 8, 112: 6, 116: 5}\n"
     ]
    }
   ],
   "source": [
    "medida = sample(control_qubits)\n",
    "print(medida.value)"
   ]
  },
  {
   "cell_type": "code",
   "execution_count": null,
   "metadata": {},
   "outputs": [],
   "source": [
    "# target_qubits."
   ]
  }
 ],
 "metadata": {
  "kernelspec": {
   "display_name": "Python 3",
   "language": "python",
   "name": "python3"
  },
  "language_info": {
   "codemirror_mode": {
    "name": "ipython",
    "version": 3
   },
   "file_extension": ".py",
   "mimetype": "text/x-python",
   "name": "python",
   "nbconvert_exporter": "python",
   "pygments_lexer": "ipython3",
   "version": "3.10.12"
  }
 },
 "nbformat": 4,
 "nbformat_minor": 2
}
